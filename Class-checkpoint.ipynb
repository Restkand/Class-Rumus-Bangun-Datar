{
 "cells": [
  {
   "cell_type": "code",
   "execution_count": 22,
   "metadata": {},
   "outputs": [],
   "source": [
    "class Persegi:\n",
    "    \n",
    "    def __init__ (self, sisi=0):\n",
    "        self.sisi = sisi\n",
    "        \n",
    "    def luas(self):\n",
    "        return self.sisi*self.sisi\n",
    "    \n",
    "    def keliling(self):\n",
    "        return self.sisi*4"
   ]
  },
  {
   "cell_type": "code",
   "execution_count": 27,
   "metadata": {},
   "outputs": [],
   "source": [
    "Kotak = Persegi(4)"
   ]
  },
  {
   "cell_type": "code",
   "execution_count": 28,
   "metadata": {},
   "outputs": [
    {
     "data": {
      "text/plain": [
       "16"
      ]
     },
     "execution_count": 28,
     "metadata": {},
     "output_type": "execute_result"
    }
   ],
   "source": [
    "Kotak.luas()"
   ]
  },
  {
   "cell_type": "code",
   "execution_count": 33,
   "metadata": {},
   "outputs": [],
   "source": [
    "class Segitiga:\n",
    "    \n",
    "    def __init__ (self,alas,tinggi,SsA=0, SsB=0,SsC=0):\n",
    "        self.alas = alas\n",
    "        self.tinggi = tinggi\n",
    "        self.SsA = SsA\n",
    "        self.SsB = SsB\n",
    "        self.SsC = SsC\n",
    "    \n",
    "    def luas(self):\n",
    "        return self.alas*self.tinggi/2\n",
    "    \n",
    "    def keliling(self):\n",
    "        return self.SsA+self.SsB+self.SsC"
   ]
  },
  {
   "cell_type": "code",
   "execution_count": 36,
   "metadata": {},
   "outputs": [],
   "source": [
    "class  PesegiPanjang:\n",
    "    \n",
    "    def __init__ (self,panjang,lebar):\n",
    "        self.panjang = panjang\n",
    "        self.lebar = lebar\n",
    "        \n",
    "    def luas(self):\n",
    "        return self.panjang*self.lebar\n",
    "    \n",
    "    def keliling(self):\n",
    "        return 2*(self.panjang + self.luas)"
   ]
  },
  {
   "cell_type": "code",
   "execution_count": 35,
   "metadata": {},
   "outputs": [
    {
     "data": {
      "text/plain": [
       "7.5"
      ]
     },
     "execution_count": 35,
     "metadata": {},
     "output_type": "execute_result"
    }
   ],
   "source": [
    "Atas = Segitiga(3,5)\n",
    "\n",
    "Atas.luas()"
   ]
  },
  {
   "cell_type": "code",
   "execution_count": 43,
   "metadata": {},
   "outputs": [],
   "source": [
    "class Lingkaran:\n",
    "    \n",
    "    thi = 3.14\n",
    "    \n",
    "    def __init__ (self,radius):\n",
    "        self.radius = radius\n",
    "        \n",
    "    def luas(self):\n",
    "        return self.thi*self.radius*self.radius\n",
    "    \n",
    "    def keliling(self):\n",
    "        return 2*self.thi*self.radius"
   ]
  },
  {
   "cell_type": "code",
   "execution_count": 44,
   "metadata": {},
   "outputs": [],
   "source": [
    "Bulat = Lingkaran(4)"
   ]
  },
  {
   "cell_type": "code",
   "execution_count": 46,
   "metadata": {},
   "outputs": [
    {
     "data": {
      "text/plain": [
       "50.24"
      ]
     },
     "execution_count": 46,
     "metadata": {},
     "output_type": "execute_result"
    }
   ],
   "source": [
    "Bulat.luas()"
   ]
  },
  {
   "cell_type": "code",
   "execution_count": null,
   "metadata": {},
   "outputs": [],
   "source": []
  }
 ],
 "metadata": {
  "kernelspec": {
   "display_name": "Python 3",
   "language": "python",
   "name": "python3"
  },
  "language_info": {
   "codemirror_mode": {
    "name": "ipython",
    "version": 3
   },
   "file_extension": ".py",
   "mimetype": "text/x-python",
   "name": "python",
   "nbconvert_exporter": "python",
   "pygments_lexer": "ipython3",
   "version": "3.8.3"
  }
 },
 "nbformat": 4,
 "nbformat_minor": 4
}
